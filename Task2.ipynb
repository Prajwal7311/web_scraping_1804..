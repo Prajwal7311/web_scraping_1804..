{
 "cells": [
  {
   "cell_type": "code",
   "execution_count": 1,
   "id": "10365fec-3a42-4f94-aaaf-c6485feeba69",
   "metadata": {},
   "outputs": [],
   "source": [
    "import requests\n",
    "import bs4"
   ]
  },
  {
   "cell_type": "code",
   "execution_count": 2,
   "id": "d07ddf70-dbf5-443f-a598-aaf1847c2ab0",
   "metadata": {},
   "outputs": [],
   "source": [
    "res = requests.get(\"http://quotes.toscrape.com/\")"
   ]
  },
  {
   "cell_type": "markdown",
   "id": "06912632-1d59-4732-b042-e12d752b4b8b",
   "metadata": {},
   "source": [
    "#### Get the names of all the authors in Page 1."
   ]
  },
  {
   "cell_type": "code",
   "execution_count": 3,
   "id": "5fa06bfd-fa9f-4183-9864-f0ac3759ee7c",
   "metadata": {},
   "outputs": [],
   "source": [
    "soup = bs4.BeautifulSoup(res.text, 'lxml')"
   ]
  },
  {
   "cell_type": "code",
   "execution_count": 4,
   "id": "01987791-ee8b-44e7-a1c8-00f47056e7d2",
   "metadata": {},
   "outputs": [],
   "source": [
    "author_list_eles = soup.select(\".author\")"
   ]
  },
  {
   "cell_type": "code",
   "execution_count": 5,
   "id": "744e1c0a-f894-4e67-82e8-1235e88b8e53",
   "metadata": {},
   "outputs": [],
   "source": [
    "authors = set()\n",
    "for element in set(author_list_eles):\n",
    "    authors.add(element.text)"
   ]
  },
  {
   "cell_type": "code",
   "execution_count": 6,
   "id": "f3b46d91-8f4b-4c82-9435-e55d21f2251f",
   "metadata": {},
   "outputs": [
    {
     "data": {
      "text/plain": [
       "{'Albert Einstein',\n",
       " 'André Gide',\n",
       " 'Eleanor Roosevelt',\n",
       " 'J.K. Rowling',\n",
       " 'Jane Austen',\n",
       " 'Marilyn Monroe',\n",
       " 'Steve Martin',\n",
       " 'Thomas A. Edison'}"
      ]
     },
     "execution_count": 6,
     "metadata": {},
     "output_type": "execute_result"
    }
   ],
   "source": [
    "authors"
   ]
  },
  {
   "cell_type": "markdown",
   "id": "11a33974-c496-4e5f-a487-3fec2bf66405",
   "metadata": {},
   "source": [
    "#### Create a list of all the quotes in the first page"
   ]
  },
  {
   "cell_type": "code",
   "execution_count": 7,
   "id": "c92484c6-2bd0-4e54-a0e8-6d5354bc0ba5",
   "metadata": {},
   "outputs": [],
   "source": [
    "quotes = []\n",
    "for quote_ele in soup.select(\".text\"):\n",
    "    quotes.append(quote_ele.text)"
   ]
  },
  {
   "cell_type": "code",
   "execution_count": 8,
   "id": "d9c31245-fb58-4386-9b73-d05288ab1667",
   "metadata": {},
   "outputs": [
    {
     "data": {
      "text/plain": [
       "['“The world as we have created it is a process of our thinking. It cannot be changed without changing our thinking.”',\n",
       " '“It is our choices, Harry, that show what we truly are, far more than our abilities.”',\n",
       " '“There are only two ways to live your life. One is as though nothing is a miracle. The other is as though everything is a miracle.”',\n",
       " '“The person, be it gentleman or lady, who has not pleasure in a good novel, must be intolerably stupid.”',\n",
       " \"“Imperfection is beauty, madness is genius and it's better to be absolutely ridiculous than absolutely boring.”\",\n",
       " '“Try not to become a man of success. Rather become a man of value.”',\n",
       " '“It is better to be hated for what you are than to be loved for what you are not.”',\n",
       " \"“I have not failed. I've just found 10,000 ways that won't work.”\",\n",
       " \"“A woman is like a tea bag; you never know how strong it is until it's in hot water.”\",\n",
       " '“A day without sunshine is like, you know, night.”']"
      ]
     },
     "execution_count": 8,
     "metadata": {},
     "output_type": "execute_result"
    }
   ],
   "source": [
    "quotes"
   ]
  },
  {
   "cell_type": "markdown",
   "id": "8791d4b3-fad6-41fe-b081-85e0d494211d",
   "metadata": {},
   "source": [
    "#### Extract the top ten tags from the requests text shown on the top right from the home page"
   ]
  },
  {
   "cell_type": "code",
   "execution_count": 9,
   "id": "e1435af1-c4a4-4404-a448-5c4c0947c16c",
   "metadata": {},
   "outputs": [
    {
     "name": "stdout",
     "output_type": "stream",
     "text": [
      "\n",
      "love\n",
      "\n",
      "\n",
      "inspirational\n",
      "\n",
      "\n",
      "life\n",
      "\n",
      "\n",
      "humor\n",
      "\n",
      "\n",
      "books\n",
      "\n",
      "\n",
      "reading\n",
      "\n",
      "\n",
      "friendship\n",
      "\n",
      "\n",
      "friends\n",
      "\n",
      "\n",
      "truth\n",
      "\n",
      "\n",
      "simile\n",
      "\n"
     ]
    }
   ],
   "source": [
    "for tag in soup.select('.tag-item'):\n",
    "    print(tag.text)"
   ]
  },
  {
   "cell_type": "markdown",
   "id": "725569b6-5e4d-4f62-a1e7-90ff37237d31",
   "metadata": {},
   "source": [
    "### Find the name of all the authors from every pages."
   ]
  },
  {
   "cell_type": "code",
   "execution_count": 10,
   "id": "a03ebf92-e66d-4489-b753-d22475b832f3",
   "metadata": {},
   "outputs": [],
   "source": [
    "# Base url for navigating to any page\n",
    "base_url = \"http://quotes.toscrape.com/page/\"\n",
    "\n",
    "page_is_valid = True\n",
    "\n",
    "# start with page 1\n",
    "page = 1\n",
    "\n",
    "athours = set()\n",
    "\n",
    "while page_is_valid:\n",
    "    pagelink = base_url + str(page)\n",
    "    \n",
    "    res = requests.get(pagelink)\n",
    "\n",
    "    #check if current page is the last one\n",
    "    if 'No quotes found' in res.text:\n",
    "        break\n",
    "\n",
    "    soup = bs4.BeautifulSoup(res.text, 'lxml')\n",
    "\n",
    "    #add new \n",
    "    for author in soup.select('.author'):\n",
    "        authors.add(author.text)\n",
    "\n",
    "    page = page + 1"
   ]
  },
  {
   "cell_type": "code",
   "execution_count": 11,
   "id": "8ae39284-3acc-43d2-bad7-02d2dce11f8a",
   "metadata": {},
   "outputs": [
    {
     "data": {
      "text/plain": [
       "{'Albert Einstein',\n",
       " 'Alexandre Dumas fils',\n",
       " 'Alfred Tennyson',\n",
       " 'Allen Saunders',\n",
       " 'André Gide',\n",
       " 'Ayn Rand',\n",
       " 'Bob Marley',\n",
       " 'C.S. Lewis',\n",
       " 'Charles Bukowski',\n",
       " 'Charles M. Schulz',\n",
       " 'Douglas Adams',\n",
       " 'Dr. Seuss',\n",
       " 'E.E. Cummings',\n",
       " 'Eleanor Roosevelt',\n",
       " 'Elie Wiesel',\n",
       " 'Ernest Hemingway',\n",
       " 'Friedrich Nietzsche',\n",
       " 'Garrison Keillor',\n",
       " 'George Bernard Shaw',\n",
       " 'George Carlin',\n",
       " 'George Eliot',\n",
       " 'George R.R. Martin',\n",
       " 'Harper Lee',\n",
       " 'Haruki Murakami',\n",
       " 'Helen Keller',\n",
       " 'J.D. Salinger',\n",
       " 'J.K. Rowling',\n",
       " 'J.M. Barrie',\n",
       " 'J.R.R. Tolkien',\n",
       " 'James Baldwin',\n",
       " 'Jane Austen',\n",
       " 'Jim Henson',\n",
       " 'Jimi Hendrix',\n",
       " 'John Lennon',\n",
       " 'Jorge Luis Borges',\n",
       " 'Khaled Hosseini',\n",
       " \"Madeleine L'Engle\",\n",
       " 'Marilyn Monroe',\n",
       " 'Mark Twain',\n",
       " 'Martin Luther King Jr.',\n",
       " 'Mother Teresa',\n",
       " 'Pablo Neruda',\n",
       " 'Ralph Waldo Emerson',\n",
       " 'Stephenie Meyer',\n",
       " 'Steve Martin',\n",
       " 'Suzanne Collins',\n",
       " 'Terry Pratchett',\n",
       " 'Thomas A. Edison',\n",
       " 'W.C. Fields',\n",
       " 'William Nicholson'}"
      ]
     },
     "execution_count": 11,
     "metadata": {},
     "output_type": "execute_result"
    }
   ],
   "source": [
    "authors"
   ]
  }
 ],
 "metadata": {
  "kernelspec": {
   "display_name": "Python 3 (ipykernel)",
   "language": "python",
   "name": "python3"
  },
  "language_info": {
   "codemirror_mode": {
    "name": "ipython",
    "version": 3
   },
   "file_extension": ".py",
   "mimetype": "text/x-python",
   "name": "python",
   "nbconvert_exporter": "python",
   "pygments_lexer": "ipython3",
   "version": "3.12.3"
  }
 },
 "nbformat": 4,
 "nbformat_minor": 5
}
